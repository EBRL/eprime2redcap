{
 "metadata": {
  "name": ""
 },
 "nbformat": 3,
 "nbformat_minor": 0,
 "worksheets": [
  {
   "cells": [
    {
     "cell_type": "code",
     "collapsed": false,
     "input": [
      "import ep2rc\n",
      "import pandas as pd\n",
      "from scipy.stats import norm\n",
      "pd.set_option('display.max_rows', 500)"
     ],
     "language": "python",
     "metadata": {},
     "outputs": [
      {
       "output_type": "stream",
       "stream": "stderr",
       "text": [
        "/Users/scottburns/.virtualenvs/ep2rc/lib/python2.7/site-packages/pytz/__init__.py:35: UserWarning: Module ep2rc was already imported from ep2rc/__init__.pyc, but /Users/scottburns/.virtualenvs/ep2rc/lib/python2.7/site-packages/Eprime2Redcap-0.5.2-py2.7.egg is being added to sys.path\n",
        "  from pkg_resources import resource_stream\n"
       ]
      }
     ],
     "prompt_number": 1
    },
    {
     "cell_type": "code",
     "collapsed": false,
     "input": [
      "fname = 'temp/LERDP2_DLWORDENC_4019_V2.txt'\n",
      "# !open $fname -a Microsoft\\ Excel.app"
     ],
     "language": "python",
     "metadata": {},
     "outputs": [],
     "prompt_number": 1
    },
    {
     "cell_type": "code",
     "collapsed": false,
     "input": [
      "with open(fname) as fobj:\n",
      "    df = pd.DataFrame(ep2rc.io.split_dict(fobj))\n",
      "# filter only real task\n",
      "df = df[df['Running[Trial]'] == 'EncodingItems']\n",
      "# Use declearn get rt function to compute actual RT\n",
      "df['RealRT'] = df.apply(ep2rc.parsers.declearn_get_rt, axis=1)"
     ],
     "language": "python",
     "metadata": {},
     "outputs": [],
     "prompt_number": 3
    },
    {
     "cell_type": "code",
     "collapsed": false,
     "input": [
      "def declearn_wordenc_classify(trial):\n",
      "    \"\"\"This function returns 'word' if trial['Item'] is a real word, 'nonword' otherwise\n",
      "    \n",
      "    This should be used for word encoding\n",
      "    \"\"\"\n",
      "    nonwords = set(('feenlimer', 'gleednall', 'pogle', 'neshin',\n",
      "                'plassdoo', 'leth', 'nadvin', 'affleater',\n",
      "                'leshbin', 'ruke', 'naspucko', 'bive',\n",
      "                'reckbock', 'pasadee', 'woob', 'proyen',\n",
      "                'omvashogger', 'saffle', 'jopple', 'daiblamede',\n",
      "                'feak', 'fondie', 'skapion', 'bessfeg',\n",
      "                'plean', 'tallep', 'datsiggle', 'jastid',\n",
      "                'loppic', 'ponk', 'spashrecker', 'fombolleen', ))\n",
      "\n",
      "    return 'nonreal' if trial['Item'] in nonwords else 'real'\n",
      "\n",
      "df['ItemClass'] = df.apply(declearn_wordenc_classify, axis=1)\n",
      "\n",
      "\n",
      "def declearn_wordenc_actual_stimulus(trial):\n",
      "    press = ('1', '5')\n",
      "    if trial['Stimulus.RESP'] in press:\n",
      "        return trial['Stimulus.RESP']\n",
      "    else:\n",
      "        return trial['WaitForResponse.RESP']\n",
      "\n",
      "df['ItemResponse'] = df.apply(declearn_wordenc_actual_stimulus, axis=1)\n",
      "g1 = df.groupby('ItemClass')\n",
      "g1_size = g1.size()\n",
      "g2 = df.groupby(['ItemClass', 'ItemResponse'])\n",
      "g2_size = g2.size()\n",
      "g2_rt_mean = g2['RealRT'].mean()\n",
      "g2_rt_std = g2['RealRT'].std()\n",
      "n = float(len(df))"
     ],
     "language": "python",
     "metadata": {},
     "outputs": [],
     "prompt_number": 4
    },
    {
     "cell_type": "code",
     "collapsed": false,
     "input": [
      "df.to_csv('temp/LERDP2_DLWORDENC_4019_V2.csv')\n",
      "!open temp/LERDP2_DLWORDENC_4019_V2.csv -a Microsoft\\ Excel.app"
     ],
     "language": "python",
     "metadata": {},
     "outputs": [],
     "prompt_number": 5
    },
    {
     "cell_type": "code",
     "collapsed": false,
     "input": [
      "d = {}\n",
      "D_FMT = '%d'\n",
      "F_FMT = '%0.3f'\n",
      "# Words\n",
      "# Correct response to real is '1'\n",
      "d['dlwordenc_real_corr_acc'] = F_FMT % (g2_size[('real', '1')] / float(g1_size['real']) * 100)\n",
      "d['dlwordenc_real_corr_rtavg'] = F_FMT % (g2_rt_mean[('real', '1')])\n",
      "d['dlwordenc_real_corr_rtsd'] = F_FMT % (g2_rt_std[('real', '1')])\n",
      "# Incorrect response to real is '5'\n",
      "d['dlwordenc_real_incorr_rtavg'] = F_FMT % (g2_rt_mean[('real', '5')])\n",
      "d['dlwordenc_real_incorr_rtsd'] = F_FMT % (g2_rt_std[('real', '5')])\n",
      "\n",
      "# Nonwords\n",
      "# Correct response to nonreal is '5'\n",
      "d['dlwordenc_nonreal_corr_acc'] = F_FMT % (g2_size[('nonreal', '5')] / float(g1_size['nonreal']) * 100)\n",
      "d['dlwordenc_nonreal_corr_rtavg'] = F_FMT % (g2_rt_mean[('nonreal', '5')])\n",
      "d['dlwordenc_nonreal_corr_rtsd'] = F_FMT % (g2_rt_std[('nonreal', '5')])\n",
      "# Incorrect response to nonreal is '1'\n",
      "d['dlwordenc_nonreal_incorr_rtavg'] = F_FMT % (g2_rt_mean[('nonreal', '1')])\n",
      "d['dlwordenc_nonreal_incorr_rtsd'] = F_FMT % (g2_rt_std[('nonreal', '1')])\n",
      "\n",
      "# dprime \n",
      "hit_rate = float(g2_size[('real', '1')]) / g1_size['real']\n",
      "far = float(g2_size[('nonreal', '1')]) / g1_size['nonreal']\n",
      "zhr = norm.ppf(hit_rate)\n",
      "zfar = norm.ppf(far)\n",
      "d['dlwordenc_dprime'] = F_FMT % (zhr - zfar)\n"
     ],
     "language": "python",
     "metadata": {},
     "outputs": [],
     "prompt_number": 6
    },
    {
     "cell_type": "code",
     "collapsed": false,
     "input": [
      "d"
     ],
     "language": "python",
     "metadata": {},
     "outputs": [
      {
       "metadata": {},
       "output_type": "pyout",
       "prompt_number": 7,
       "text": [
        "{'dlwordenc_dprime': '1.897',\n",
        " 'dlwordenc_nonreal_corr_acc': '71.875',\n",
        " 'dlwordenc_nonreal_corr_rtavg': '1729.652',\n",
        " 'dlwordenc_nonreal_corr_rtsd': '351.480',\n",
        " 'dlwordenc_nonreal_incorr_rtavg': '2581.333',\n",
        " 'dlwordenc_nonreal_incorr_rtsd': '1211.025',\n",
        " 'dlwordenc_real_corr_acc': '90.625',\n",
        " 'dlwordenc_real_corr_rtavg': '1569.138',\n",
        " 'dlwordenc_real_corr_rtsd': '634.714',\n",
        " 'dlwordenc_real_incorr_rtavg': '2594.333',\n",
        " 'dlwordenc_real_incorr_rtsd': '1383.668'}"
       ]
      }
     ],
     "prompt_number": 7
    },
    {
     "cell_type": "code",
     "collapsed": false,
     "input": [
      "from ep2rc.parsers import LERDP2B_DLWORDENC\n",
      "with open(fname) as fobj:\n",
      "    d = LERDP2B_DLWORDENC(fobj)\n",
      "d"
     ],
     "language": "python",
     "metadata": {},
     "outputs": [
      {
       "output_type": "stream",
       "stream": "stderr",
       "text": [
        "/Users/scottburns/.virtualenvs/ep2rc/lib/python2.7/site-packages/pytz/__init__.py:35: UserWarning: Module ep2rc was already imported from ep2rc/__init__.pyc, but /Users/scottburns/.virtualenvs/ep2rc/lib/python2.7/site-packages/Eprime2Redcap-0.5.2-py2.7.egg is being added to sys.path\n",
        "  from pkg_resources import resource_stream\n"
       ]
      },
      {
       "metadata": {},
       "output_type": "pyout",
       "prompt_number": 2,
       "text": [
        "{'dlwordenc_dprime': '1.897',\n",
        " 'dlwordenc_nonreal_corr_acc': '71.875',\n",
        " 'dlwordenc_nonreal_corr_rtavg': '1729.652',\n",
        " 'dlwordenc_nonreal_corr_rtsd': '351.480',\n",
        " 'dlwordenc_nonreal_incorr_rtavg': '2581.333',\n",
        " 'dlwordenc_nonreal_incorr_rtsd': '1211.025',\n",
        " 'dlwordenc_real_corr_acc': '90.625',\n",
        " 'dlwordenc_real_corr_rtavg': '1569.138',\n",
        " 'dlwordenc_real_corr_rtsd': '634.714',\n",
        " 'dlwordenc_real_incorr_rtavg': '2594.333',\n",
        " 'dlwordenc_real_incorr_rtsd': '1383.668'}"
       ]
      }
     ],
     "prompt_number": 2
    },
    {
     "cell_type": "code",
     "collapsed": false,
     "input": [],
     "language": "python",
     "metadata": {},
     "outputs": []
    }
   ],
   "metadata": {}
  }
 ]
}