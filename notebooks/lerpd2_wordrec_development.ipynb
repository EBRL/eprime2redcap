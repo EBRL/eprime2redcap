{
 "metadata": {
  "name": ""
 },
 "nbformat": 3,
 "nbformat_minor": 0,
 "worksheets": [
  {
   "cells": [
    {
     "cell_type": "code",
     "collapsed": false,
     "input": [
      "import pandas as pd\n",
      "from scipy.stats import norm\n",
      "pd.set_option('display.max_rows', 500)\n",
      "import ep2rc"
     ],
     "language": "python",
     "metadata": {},
     "outputs": [],
     "prompt_number": 1
    },
    {
     "cell_type": "code",
     "collapsed": false,
     "input": [
      "fname = 'temp/LERDP2_DLWORDREC_4019_V2.txt'\n",
      "# !open $fname -a Microsoft\\ Excel.app"
     ],
     "language": "python",
     "metadata": {},
     "outputs": [],
     "prompt_number": 2
    },
    {
     "cell_type": "code",
     "collapsed": false,
     "input": [
      "def declearn_wordrec_classify(trial):\n",
      "    \"\"\"This function returns 'novel' is trial['Item'] is a novel stimuli,\n",
      "    otherwise it returns 'old'\n",
      "    \"\"\"\n",
      "    old = set(('bear', 'crayon', 'feenlimer', 'gleednall',\n",
      "           'eggbeater', 'pogle', 'neshin', 'spoon',\n",
      "           'plassdoo', 'leech', 'treadmill', 'ferret',\n",
      "           'leth', 'ladle', 'nadvin', 'zipper',\n",
      "           'affleater', 'buffalo', 'skyscraper', 'leshbin',\n",
      "           'ruke', 'naspucko', 'pistol', 'lotion',\n",
      "           'bive', 'reckbock', 'pasadee', 'stadium',\n",
      "           'beetle', 'woob', 'proyen', 'omvashogger',\n",
      "           'plunger', 'mosquito', 'saffle', 'jopple',\n",
      "           'backpack', 'daiblamede', 'deer', 'bulldog',\n",
      "           'feak', 'mink', 'fondie', 'rake',\n",
      "           'skapion', 'bessfeg', 'donkey', 'plean',\n",
      "           'cave', 'tallep', 'napkin', 'lawnmower',\n",
      "           'condor', 'datsiggle', 'jastid', 'loppic',\n",
      "           'tambourine', 'submarine', 'ponk', 'popsicle',\n",
      "           'paddle', 'spashrecker', 'fombolleen', 'amphitheater',))\n",
      "    return 'old' if trial['Item'] in old else 'novel'\n",
      "\n",
      "def declearn_wordrec_accuracy(trial):\n",
      "    old_and_one = trial['ItemClass'] == 'old' and trial['ItemResponse'] == '1'\n",
      "    novel_and_five = trial['ItemClass'] == 'novel' and trial['ItemResponse'] == '5'\n",
      "    if old_and_one or novel_and_five:\n",
      "        return 'correct'\n",
      "    else:\n",
      "        return 'wrong'\n",
      "        \n"
     ],
     "language": "python",
     "metadata": {},
     "outputs": [],
     "prompt_number": 30
    },
    {
     "cell_type": "code",
     "collapsed": false,
     "input": [
      "# NO NEED TO COPY\n",
      "F_FMT = '%.3f'\n",
      "D_FMT = '%d'\n",
      "# END\n",
      "\n",
      "\n",
      "with open(fname) as fobj:\n",
      "    df = pd.DataFrame(ep2rc.io.split_dict(fobj))\n",
      "# filter only real task\n",
      "df = df[df['Running[Trial]'] == 'RetrievalItems']\n",
      "# Use declearn get rt function to compute actual RT\n",
      "df['RealRT'] = df.apply(ep2rc.parsers.declearn_get_rt, axis=1)\n",
      "# Classify\n",
      "df['ItemClass'] = df.apply(declearn_wordrec_classify, axis=1)\n",
      "# Simplify responses\n",
      "df['ItemResponse'] = df.apply(ep2rc.parsers.declearn_wordenc_actual_response, axis=1)\n",
      "# Simplify Accuracy\n",
      "df['ItemAccuracy'] = df.apply(declearn_wordrec_accuracy, axis=1)\n",
      "\n",
      "sizes = df.groupby('ItemClass').size()\n",
      "g = df.groupby(('ItemClass', 'ItemAccuracy'))\n",
      "g_size = g.size()\n",
      "g_rtavg = g['RealRT'].mean()\n",
      "g_rtsd = g['RealRT'].std()\n",
      "\n",
      "d = {}\n",
      "# Old Correct\n",
      "d['dlwordrec_old_corr_acc'] = F_FMT % (float(g_size[('old', 'correct')]) / sizes['old'] * 100) \n",
      "d['dlwordrec_old_corr_rtavg'] = F_FMT % g_rtavg[('old', 'correct')]\n",
      "d['dlwordrec_old_corr_rtsd'] = F_FMT % g_rtsd[('old', 'correct')]\n",
      "# Old Incorrect\n",
      "d['dlwordrec_old_incorr_rtavg'] = F_FMT % g_rtavg[('old', 'wrong')]\n",
      "d['dlwordrec_old_incorr_rtsd'] = F_FMT % g_rtsd[('old', 'wrong')]\n",
      "\n",
      "# Novel Correct\n",
      "d['dlwordrec_novel_corr_acc'] = F_FMT % (float(g_size[('novel', 'correct')]) / sizes['novel'] * 100) \n",
      "d['dlwordrec_novel_corr_rtavg'] = F_FMT % g_rtavg[('novel', 'correct')]\n",
      "d['dlwordrec_novel_corr_rtsd'] = F_FMT % g_rtsd[('novel', 'correct')]\n",
      "# Novel Incorrect\n",
      "d['dlwordrec_novel_incorr_rtavg'] = F_FMT % g_rtavg[('novel', 'wrong')]\n",
      "d['dlwordrec_novel_incorr_rtsd'] = F_FMT % g_rtsd[('novel', 'wrong')]\n",
      "\n",
      "from scipy.stats import norm\n",
      "hr = float(g_size[('old', 'correct')]) / sizes['old']\n",
      "far = float(g_size[('novel', 'wrong')]) / sizes['novel']\n",
      "dprime = norm.ppf(hr) - norm.ppf(far)\n",
      "d['dlwordrec_dprime'] = F_FMT % dprime\n",
      "\n",
      "d"
     ],
     "language": "python",
     "metadata": {},
     "outputs": [
      {
       "metadata": {},
       "output_type": "pyout",
       "prompt_number": 32,
       "text": [
        "{'dlwordrec_dprime': '1.252',\n",
        " 'dlwordrec_novel_corr_acc': '73.438',\n",
        " 'dlwordrec_novel_corr_rtavg': '2466.085',\n",
        " 'dlwordrec_novel_corr_rtsd': '776.807',\n",
        " 'dlwordrec_novel_incorr_rtavg': '2122.941',\n",
        " 'dlwordrec_novel_incorr_rtsd': '1031.249',\n",
        " 'dlwordrec_old_corr_acc': '73.438',\n",
        " 'dlwordrec_old_corr_rtavg': '2157.574',\n",
        " 'dlwordrec_old_corr_rtsd': '799.859',\n",
        " 'dlwordrec_old_incorr_rtavg': '2497.765',\n",
        " 'dlwordrec_old_incorr_rtsd': '1094.999'}"
       ]
      }
     ],
     "prompt_number": 32
    },
    {
     "cell_type": "code",
     "collapsed": false,
     "input": [
      "df.to_csv('temp/LERDP2_DLWORDREC_4019_V2.csv')\n",
      "!open temp/LERDP2_DLWORDREC_4019_V2.csv"
     ],
     "language": "python",
     "metadata": {},
     "outputs": [],
     "prompt_number": 13
    },
    {
     "cell_type": "code",
     "collapsed": false,
     "input": [
      "d = ep2rc.parse_and_upload('temp/LERDP2_DLWORDREC_4019_V2.txt', 'lerdp2', do_upload=True)"
     ],
     "language": "python",
     "metadata": {},
     "outputs": [
      {
       "output_type": "stream",
       "stream": "stdout",
       "text": [
        "\n"
       ]
      }
     ],
     "prompt_number": 6
    },
    {
     "cell_type": "code",
     "collapsed": false,
     "input": [
      "ep2rc.rc.upload(d[0], 'lerdp2')"
     ],
     "language": "python",
     "metadata": {},
     "outputs": [
      {
       "metadata": {},
       "output_type": "pyout",
       "prompt_number": 8,
       "text": [
        "False"
       ]
      }
     ],
     "prompt_number": 8
    },
    {
     "cell_type": "code",
     "collapsed": false,
     "input": [
      "p = ep2rc.rc.projects['lerdp2']"
     ],
     "language": "python",
     "metadata": {},
     "outputs": [],
     "prompt_number": 9
    },
    {
     "cell_type": "code",
     "collapsed": false,
     "input": [
      "response = p.import_records([d[0]])"
     ],
     "language": "python",
     "metadata": {},
     "outputs": [],
     "prompt_number": 13
    },
    {
     "cell_type": "code",
     "collapsed": false,
     "input": [
      "response"
     ],
     "language": "python",
     "metadata": {},
     "outputs": [
      {
       "metadata": {},
       "output_type": "pyout",
       "prompt_number": 14,
       "text": [
        "{u'error': u'The following fields were not found in the project',\n",
        " u'fields': [u'v2_dlwordrec_old_corr_acc', u'v2_dlwordrec_novel_corr_acc']}"
       ]
      }
     ],
     "prompt_number": 14
    },
    {
     "cell_type": "code",
     "collapsed": false,
     "input": [],
     "language": "python",
     "metadata": {},
     "outputs": []
    }
   ],
   "metadata": {}
  }
 ]
}