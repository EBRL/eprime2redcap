{
 "metadata": {
  "name": ""
 },
 "nbformat": 3,
 "nbformat_minor": 0,
 "worksheets": [
  {
   "cells": [
    {
     "cell_type": "code",
     "collapsed": false,
     "input": [
      "import pandas as pd\n",
      "from scipy.stats import norm\n",
      "pd.set_option('display.max_rows', 500)\n",
      "import ep2rc\n",
      "from ep2rc.parsers import declearn_get_rt, declearn_wordrec_classify, \\\n",
      "    declearn_wordrec_accuracy, declearn_wordenc_actual_response, F_FMT, D_FMT\n",
      "from ep2rc.io import split_dict"
     ],
     "language": "python",
     "metadata": {},
     "outputs": [],
     "prompt_number": 1
    },
    {
     "cell_type": "code",
     "collapsed": false,
     "input": [
      "fname = 'temp/LERDP2_DLWORDRET_4019_V2.txt'\n",
      "# !open $fname -a Microsoft\\ Excel.app"
     ],
     "language": "python",
     "metadata": {},
     "outputs": [],
     "prompt_number": 10
    },
    {
     "cell_type": "code",
     "collapsed": false,
     "input": [
      "ret_stim = set(('leech', 'ferret', 'pen', 'rathinvone',\n",
      "    'stork', 'zipper', 'mergulime', 'lotion',\n",
      "    'jopple', 'bison', 'mop', 'proyen',\n",
      "    'ladder', 'parakeet', 'neshin', 'underpass',\n",
      "    'submarine', 'crayon', 'datsiggle', 'steeple',\n",
      "    'telephone', 'fayweeb', 'amphitheater', 'dreegblom',\n",
      "    'plunger', 'axadoft', 'lipstick', 'wegwob',\n",
      "    'omvashogger', 'toothpick', 'smokestack', 'cave',\n",
      "    'nadvin', 'spashrecker', 'gazebo', 'woob',\n",
      "    'freenpate', 'eggbeater', 'leckera', 'donkey',\n",
      "    'backpack', 'hessa', 'seddem', 'tree',\n",
      "    'mosquito', 'ponk', 'rake', 'camera',\n",
      "    'dagoso', 'feenlimer', 'feak', 'microphone',\n",
      "    'parrot', 'leshbin', 'toothpaste', 'bulldog',\n",
      "    'daiblamede', 'aqueduct', 'ruke', 'zelapheme',\n",
      "    'plassdoo', 'spoon', 'brilt', 'binoculars',\n",
      "    'condor', 'button', 'reckbock', 'bicycle',\n",
      "    'gream', 'leth', 'stadium', 'plean',\n",
      "    'slee', 'saffle', 'pistol', 'fooshpock',\n",
      "    'pilstoft', 'jaguar', 'popsicle', 'affleater',\n",
      "    'tambourine', 'tagoof', 'ladle', 'filcafeeper',\n",
      "    'bessfeg', 'steamboat', 'violin', 'fombolleen',\n",
      "    'beng', 'clootle', 'baboon', 'lawnmower',\n",
      "    'flashlight', 'mub', 'jastid', 'beetle',\n",
      "    'bive', 'stragger', 'treadmill', 'lyogat',\n",
      "    'rellikig', 'deer', 'bear', 'peddin',\n",
      "    'shilgrite', 'loppic', 'paddle', 'jaibom',\n",
      "    'porcupine', 'pasadee', 'sooshbeath', 'gleednall',\n",
      "    'stroller', 'buffalo', 'paibackle', 'broom',\n",
      "    'shilopa', 'skapion', 'quatingrol', 'mink',\n",
      "    'napkin', 'pogle', 'piranha', 'fondie',\n",
      "    'naspucko', 'seaweed', 'tallep', 'skyscraper',))\n",
      "\n",
      "old = set(('bear', 'crayon', 'feenlimer', 'gleednall',\n",
      "    'eggbeater', 'pogle', 'neshin', 'spoon',\n",
      "    'plassdoo', 'leech', 'treadmill', 'ferret',\n",
      "    'leth', 'ladle', 'nadvin', 'zipper',\n",
      "    'affleater', 'buffalo', 'skyscraper', 'leshbin',\n",
      "    'ruke', 'naspucko', 'pistol', 'lotion',\n",
      "    'bive', 'reckbock', 'pasadee', 'stadium',\n",
      "    'beetle', 'woob', 'proyen', 'omvashogger',\n",
      "    'plunger', 'mosquito', 'saffle', 'jopple',\n",
      "    'backpack', 'daiblamede', 'deer', 'bulldog',\n",
      "    'feak', 'mink', 'fondie', 'rake',\n",
      "    'skapion', 'bessfeg', 'donkey', 'plean',\n",
      "    'cave', 'tallep', 'napkin', 'lawnmower',\n",
      "    'condor', 'datsiggle', 'jastid', 'loppic',\n",
      "    'tambourine', 'submarine', 'ponk', 'popsicle',\n",
      "    'paddle', 'spashrecker', 'fombolleen', 'amphitheater',))\n",
      "\n",
      "novel_ret = ret_stim - old\n",
      "len(novel_ret)"
     ],
     "language": "python",
     "metadata": {},
     "outputs": [
      {
       "metadata": {},
       "output_type": "pyout",
       "prompt_number": 11,
       "text": [
        "64"
       ]
      }
     ],
     "prompt_number": 11
    },
    {
     "cell_type": "code",
     "collapsed": false,
     "input": [
      "with open(fname) as fobj:\n",
      "    df = pd.DataFrame(ep2rc.io.split_dict(fobj))\n",
      "# filter only real task\n",
      "df = df[df['Running[Trial]'] == 'RetrievalItems']\n",
      "# Use declearn get rt function to compute actual RT\n",
      "df['RealRT'] = df.apply(ep2rc.parsers.declearn_get_rt, axis=1)\n",
      "# Classify\n",
      "df['ItemClass'] = df.apply(declearn_wordrec_classify, axis=1)\n",
      "# Simplify responses\n",
      "df['ItemResponse'] = df.apply(ep2rc.parsers.declearn_wordenc_actual_response, axis=1)\n",
      "# Simplify Accuracy\n",
      "df['ItemAccuracy'] = df.apply(declearn_wordrec_accuracy, axis=1)\n",
      "\n",
      "sizes = df.groupby('ItemClass').size()\n",
      "g = df.groupby(('ItemClass', 'ItemAccuracy'))\n",
      "g_size = g.size()\n",
      "g_rtavg = g['RealRT'].mean()\n",
      "g_rtsd = g['RealRT'].std()\n",
      "\n",
      "d = {}\n",
      "# Old Correct\n",
      "d['dlwordret_old_corr_acc'] = F_FMT % (float(g_size[('old', 'correct')]) / sizes['old'] * 100) \n",
      "d['dlwordret_old_corr_rtavg'] = F_FMT % g_rtavg[('old', 'correct')]\n",
      "d['dlwordret_old_corr_rtsd'] = F_FMT % g_rtsd[('old', 'correct')]\n",
      "# Old Incorrect\n",
      "d['dlwordret_old_incorr_rtavg'] = F_FMT % g_rtavg[('old', 'wrong')]\n",
      "d['dlwordret_old_incorr_rtsd'] = F_FMT % g_rtsd[('old', 'wrong')]\n",
      "\n",
      "# Novel Correct\n",
      "d['dlwordret_novel_corr_acc'] = F_FMT % (float(g_size[('novel', 'correct')]) / sizes['novel'] * 100) \n",
      "d['dlwordret_novel_corr_rtavg'] = F_FMT % g_rtavg[('novel', 'correct')]\n",
      "d['dlwordret_novel_corr_rtsd'] = F_FMT % g_rtsd[('novel', 'correct')]\n",
      "# Novel Incorrect\n",
      "d['dlwordret_novel_incorr_rtavg'] = F_FMT % g_rtavg[('novel', 'wrong')]\n",
      "d['dlwordret_novel_incorr_rtsd'] = F_FMT % g_rtsd[('novel', 'wrong')]\n",
      "\n",
      "from scipy.stats import norm\n",
      "hr = float(g_size[('old', 'correct')]) / sizes['old']\n",
      "far = float(g_size[('novel', 'wrong')]) / sizes['novel']\n",
      "dprime = norm.ppf(hr) - norm.ppf(far)\n",
      "d['dlwordret_dprime'] = F_FMT % dprime\n",
      "\n",
      "d"
     ],
     "language": "python",
     "metadata": {},
     "outputs": [
      {
       "metadata": {},
       "output_type": "pyout",
       "prompt_number": 18,
       "text": [
        "{'dlwordret_dprime': '0.849',\n",
        " 'dlwordret_novel_corr_acc': '64.062',\n",
        " 'dlwordret_novel_corr_rtavg': '2452.927',\n",
        " 'dlwordret_novel_corr_rtsd': '782.285',\n",
        " 'dlwordret_novel_incorr_rtavg': '2190.696',\n",
        " 'dlwordret_novel_incorr_rtsd': '560.428',\n",
        " 'dlwordret_old_corr_acc': '68.750',\n",
        " 'dlwordret_old_corr_rtavg': '2324.841',\n",
        " 'dlwordret_old_corr_rtsd': '547.430',\n",
        " 'dlwordret_old_incorr_rtavg': '2330.300',\n",
        " 'dlwordret_old_incorr_rtsd': '641.642'}"
       ]
      }
     ],
     "prompt_number": 18
    },
    {
     "cell_type": "code",
     "collapsed": false,
     "input": [
      "csv = 'temp/LERDP2_DLWORDRET_4019_V2.csv'\n",
      "df.to_csv(csv)\n",
      "!open $csv"
     ],
     "language": "python",
     "metadata": {},
     "outputs": [],
     "prompt_number": 19
    },
    {
     "cell_type": "code",
     "collapsed": false,
     "input": [
      "data, success = ep2rc.parse_and_upload('temp/LERDP2_DLWORDRET_4019_V2.txt', database='lerdp2')"
     ],
     "language": "python",
     "metadata": {},
     "outputs": [
      {
       "output_type": "stream",
       "stream": "stdout",
       "text": [
        "Upload failed: The following fields were not found in the project\n",
        "\n"
       ]
      }
     ],
     "prompt_number": 4
    },
    {
     "cell_type": "code",
     "collapsed": false,
     "input": [
      "p = ep2rc.rc.get_project('lerdp2')\n",
      "response = p.import_records([data])\n",
      "print response"
     ],
     "language": "python",
     "metadata": {},
     "outputs": [
      {
       "output_type": "stream",
       "stream": "stdout",
       "text": [
        "{u'fields': [u'v2_dlwordret_novel_corr_rtsd', u'v2_dlwordret_novel_corr_rtavg', u'v2_dlwordret_novel_incorr_rtsd', u'v2_dlwordret_old_incorr_rtavg', u'v2_dlwordret_novel_incorr_rtavg', u'v2_dlwordret_old_corr_rtsd', u'v2_dlwordret_old_corr_acc', u'v2_dlwordret_dprime', u'v2_dlwordret_old_incorr_rtsd', u'v2_dlwordret_novel_corr_acc', u'v2_dlwordret_old_corr_rtavg'], u'error': u'The following fields were not found in the project'}\n"
       ]
      }
     ],
     "prompt_number": 5
    },
    {
     "cell_type": "code",
     "collapsed": false,
     "input": [],
     "language": "python",
     "metadata": {},
     "outputs": []
    }
   ],
   "metadata": {}
  }
 ]
}